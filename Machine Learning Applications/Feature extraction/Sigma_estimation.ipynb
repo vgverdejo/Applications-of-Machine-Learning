{
 "cells": [
  {
   "cell_type": "code",
   "execution_count": null,
   "metadata": {
    "collapsed": true
   },
   "outputs": [],
   "source": [
    "# Good implementation (includes sigma estimation)\n",
    "def rbf_kernel_sig(X1, X2, sig=0):\n",
    "    size1=X1.shape[0];\n",
    "    size2=X2.shape[0];\n",
    "    if X1.ndim==1:\n",
    "        X1=X1[:,np.newaxis]\n",
    "        X2=X2[:,np.newaxis]\n",
    "    G=(X1* X1).sum(axis=1)\n",
    "    H=(X2* X2).sum(axis=1)\n",
    "    Q = np.tile(G, [size2,1]).T\n",
    "    R = np.tile(H, [size1,1])\n",
    "    KK=np.dot(X1,X2.T)\n",
    "    dist=(Q + R - 2*KK)\n",
    "    if sig==0:  # Then, we estimate its value\n",
    "        aux=dist-np.tril(dist)\n",
    "        aux=aux.reshape(size1**2,1)\n",
    "        sig=np.sqrt(0.5*np.mean(aux[np.where(aux>0)]))             \n",
    "    K = np.exp(-dist/sig**2);\n",
    "    return K, sig"
   ]
  }
 ],
 "metadata": {
  "kernelspec": {
   "display_name": "Python 2",
   "language": "python",
   "name": "python2"
  },
  "language_info": {
   "codemirror_mode": {
    "name": "ipython",
    "version": 2
   },
   "file_extension": ".py",
   "mimetype": "text/x-python",
   "name": "python",
   "nbconvert_exporter": "python",
   "pygments_lexer": "ipython2",
   "version": "2.7.13"
  }
 },
 "nbformat": 4,
 "nbformat_minor": 2
}
